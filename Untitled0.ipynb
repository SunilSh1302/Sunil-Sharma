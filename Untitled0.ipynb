{
  "cells": [
    {
      "cell_type": "markdown",
      "metadata": {
        "id": "view-in-github",
        "colab_type": "text"
      },
      "source": [
        "<a href=\"https://colab.research.google.com/github/SunilSh1302/Sunil-Sharma/blob/main/Untitled0.ipynb\" target=\"_parent\"><img src=\"https://colab.research.google.com/assets/colab-badge.svg\" alt=\"Open In Colab\"/></a>"
      ]
    },
    {
      "cell_type": "code",
      "execution_count": null,
      "metadata": {
        "id": "8DpV3TUxDnU-"
      },
      "outputs": [],
      "source": [
        "n=int(input('Enter number of calls: '))\n",
        "\n",
        "min_amount=200\n",
        "if n<=100:\n",
        "    amount=200\n",
        "elif n>100 and n<=150:\n",
        "    amount=min_amount+(0.60*n)\n",
        "elif n>150 and n<=200:\n",
        "    amount=min_amount+(0.50*n)\n",
        "else:\n",
        "    amount=min_amount+(0.40*n)\n",
        "            \n",
        "print(amount)\n",
        "\n",
        "\n"
      ]
    }
  ],
  "metadata": {
    "colab": {
      "provenance": [],
      "authorship_tag": "ABX9TyPS5TfCv9kXc/i4jNO9do+0",
      "include_colab_link": true
    },
    "kernelspec": {
      "display_name": "Python 3",
      "name": "python3"
    },
    "language_info": {
      "name": "python"
    }
  },
  "nbformat": 4,
  "nbformat_minor": 0
}